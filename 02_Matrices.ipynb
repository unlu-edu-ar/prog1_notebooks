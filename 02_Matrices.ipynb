{
  "nbformat": 4,
  "nbformat_minor": 0,
  "metadata": {
    "colab": {
      "name": "02_Matrices.ipynb",
      "provenance": [],
      "authorship_tag": "ABX9TyN86civ/1L+IzNhxaAXHHur",
      "include_colab_link": true
    },
    "kernelspec": {
      "name": "python3",
      "display_name": "Python 3"
    },
    "language_info": {
      "name": "python"
    }
  },
  "cells": [
    {
      "cell_type": "markdown",
      "metadata": {
        "id": "view-in-github",
        "colab_type": "text"
      },
      "source": [
        "<a href=\"https://colab.research.google.com/github/unlu-edu-ar/prog1_notebooks/blob/main/02_Matrices.ipynb\" target=\"_parent\"><img src=\"https://colab.research.google.com/assets/colab-badge.svg\" alt=\"Open In Colab\"/></a>"
      ]
    },
    {
      "cell_type": "markdown",
      "metadata": {
        "id": "Y1Nef-nhOpQY"
      },
      "source": [
        "*Para implementar el TAD Matriz vamos a usar las listas 2D de Python.*"
      ]
    },
    {
      "cell_type": "markdown",
      "metadata": {
        "id": "XNo8hlHFMeUx"
      },
      "source": [
        "## Creando listas 2D"
      ]
    },
    {
      "cell_type": "code",
      "metadata": {
        "colab": {
          "base_uri": "https://localhost:8080/"
        },
        "id": "nOWrINmBM60s",
        "outputId": "edc87155-ef99-4f69-f865-3183d9f7cc7e"
      },
      "source": [
        "# Creando una lista 2d con valores fijos (asignación estatica)\n",
        "a = [ [ 2, 3, 4 ] , [ 5, 6, 7 ] ]\n",
        "print(a)"
      ],
      "execution_count": 18,
      "outputs": [
        {
          "output_type": "stream",
          "name": "stdout",
          "text": [
            "[[2, 3, 4], [5, 6, 7]]\n"
          ]
        }
      ]
    },
    {
      "cell_type": "markdown",
      "metadata": {
        "id": "0jljJvKLUMad"
      },
      "source": [
        "Forma equivocada: no hacerlo así"
      ]
    },
    {
      "cell_type": "code",
      "metadata": {
        "colab": {
          "base_uri": "https://localhost:8080/"
        },
        "id": "2z6SAqC2N5Hm",
        "outputId": "fdc77112-f76e-47ee-c0e1-25191e817e1a"
      },
      "source": [
        "# Forma INCORRECTA de crear una lista 2d \n",
        "rows = 3\n",
        "cols = 2\n",
        "\n",
        "a = [ [0] * cols ] * rows # Error: crea una sola fila, las demás son alias!\n",
        "\n",
        "print(\"Esto PARECIERA funcionar ok...\")\n",
        "print(\"   a =\", a)\n",
        "\n",
        "a[0][0] = 42\n",
        "print(\"... pero veamos qué pasa después de asignar a[0][0]=42\")\n",
        "print(\"   a =\", a)"
      ],
      "execution_count": 19,
      "outputs": [
        {
          "output_type": "stream",
          "name": "stdout",
          "text": [
            "Esto PARECIERA funcionar ok...\n",
            "   a = [[0, 0], [0, 0], [0, 0]]\n",
            "... pero veamos qué pasa después de asignar a[0][0]=42\n",
            "   a = [[42, 0], [42, 0], [42, 0]]\n"
          ]
        }
      ]
    },
    {
      "cell_type": "markdown",
      "metadata": {
        "id": "gk39Y_CDOP_L"
      },
      "source": [
        "Forma correcta: Agregando las filas una por vez"
      ]
    },
    {
      "cell_type": "code",
      "metadata": {
        "colab": {
          "base_uri": "https://localhost:8080/"
        },
        "id": "cqwIqb_kUovs",
        "outputId": "ef12e8fa-01ab-4aa8-b198-3d7c68d23193"
      },
      "source": [
        "# Creando una lista 2d de un tamaño asignado por variable\n",
        "filas = 3\n",
        "cols = 2\n",
        "\n",
        "a = []\n",
        "for fila in range(filas):\n",
        "    a += [[0]*cols]\n",
        "\n",
        "print(\"Esto está bien!:\")\n",
        "print(\"   a =\", a)\n",
        "\n",
        "a[0][0] = 42\n",
        "print(\"Veamos qué pasa después de asignar a[0][0]=42\")\n",
        "print(\"   a =\", a)"
      ],
      "execution_count": 20,
      "outputs": [
        {
          "output_type": "stream",
          "name": "stdout",
          "text": [
            "Esto está bien!:\n",
            "   a = [[0, 0], [0, 0], [0, 0]]\n",
            "Veamos qué pasa después de asignar a[0][0]=42\n",
            "   a = [[42, 0], [0, 0], [0, 0]]\n"
          ]
        }
      ]
    },
    {
      "cell_type": "markdown",
      "metadata": {
        "id": "zyaVEH1KVNOZ"
      },
      "source": [
        "Otra buena opción: usar una lista por comprensión"
      ]
    },
    {
      "cell_type": "code",
      "metadata": {
        "colab": {
          "base_uri": "https://localhost:8080/"
        },
        "id": "4qejXHQpLPLb",
        "outputId": "38530bb2-2d4d-4e0a-8844-7b4114a4ad5c"
      },
      "source": [
        "filas = 3\n",
        "cols = 2\n",
        "\n",
        "#Esto es lo que se llama \"lista por comprensión\"\n",
        "a = [ ([0] * cols) for fila in range(filas) ]\n",
        "\n",
        "print(\"Esto está bien!:\")\n",
        "print(\"   a =\", a)\n",
        "\n",
        "a[0][0] = 42\n",
        "print(\"Veamos qué pasa después de asignar a[0][0]=42\")\n",
        "print(\"   a =\", a)"
      ],
      "execution_count": 21,
      "outputs": [
        {
          "output_type": "stream",
          "name": "stdout",
          "text": [
            "Esto está bien!:\n",
            "   a = [[0, 0], [0, 0], [0, 0]]\n",
            "Veamos qué pasa después de asignar a[0][0]=42\n",
            "   a = [[42, 0], [0, 0], [0, 0]]\n"
          ]
        }
      ]
    },
    {
      "cell_type": "markdown",
      "metadata": {
        "id": "2R9GP7hdLztG"
      },
      "source": [
        "Mejor opción: crear una función que cree listas 2d"
      ]
    },
    {
      "cell_type": "code",
      "metadata": {
        "colab": {
          "base_uri": "https://localhost:8080/"
        },
        "id": "QrYn8PKlOMO1",
        "outputId": "10b87f0f-352b-47ab-ad1e-d031c02084fc"
      },
      "source": [
        "def crear2dList(filas, cols):\n",
        "    return [ ([0] * cols) for fila in range(filas) ]\n",
        "\n",
        "filas = 3\n",
        "cols = 2\n",
        "\n",
        "a = crear2dList(filas, cols)\n",
        "\n",
        "print(\"Esto está bien!:\")\n",
        "print(\"   a =\", a)\n",
        "\n",
        "a[0][0] = 42\n",
        "print(\"Veamos qué pasa después de asignar a[0][0]=42\")\n",
        "print(\"   a =\", a)"
      ],
      "execution_count": 22,
      "outputs": [
        {
          "output_type": "stream",
          "name": "stdout",
          "text": [
            "Esto está bien!:\n",
            "   a = [[0, 0], [0, 0], [0, 0]]\n",
            "Veamos qué pasa después de asignar a[0][0]=42\n",
            "   a = [[42, 0], [0, 0], [0, 0]]\n"
          ]
        }
      ]
    },
    {
      "cell_type": "markdown",
      "metadata": {
        "id": "RcawFfBgOjwi"
      },
      "source": [
        "# Averiguando las dimensiones de las listas 2d"
      ]
    },
    {
      "cell_type": "code",
      "metadata": {
        "colab": {
          "base_uri": "https://localhost:8080/"
        },
        "id": "la_Qti1vgFOw",
        "outputId": "a939bc9b-edfe-4438-caa8-64462b8a3496"
      },
      "source": [
        "# Creando una matriz como lista 2d\n",
        "a = [ [ 2, 3, 5] , [ 1, 4, 7 ] ]\n",
        "print(\"a = \", a)\n",
        "\n",
        "# Encontrando sus dimensiones\n",
        "filas = len(a)\n",
        "cols = len(a[0])\n",
        "print(\"filas =\", filas)\n",
        "print(\"columnas =\", cols)"
      ],
      "execution_count": 23,
      "outputs": [
        {
          "output_type": "stream",
          "name": "stdout",
          "text": [
            "a =  [[2, 3, 5], [1, 4, 7]]\n",
            "filas = 2\n",
            "columnas = 3\n"
          ]
        }
      ]
    },
    {
      "cell_type": "markdown",
      "metadata": {
        "id": "eQVdIdD1gbR-"
      },
      "source": [
        "#Iterando sobre las listas 2d (ciclo anidado)"
      ]
    },
    {
      "cell_type": "code",
      "metadata": {
        "colab": {
          "base_uri": "https://localhost:8080/"
        },
        "id": "i76IGiKWqU_L",
        "outputId": "f2715a9e-7518-4859-ee49-7095fc889167"
      },
      "source": [
        "# Creemos una lista 2d\n",
        "a = [ [ 2, 3, 5] , [ 1, 4, 7 ] ]\n",
        "print(\"Inicial: a =\", a)\n",
        "\n",
        "# Ahora encontremos sus dimensiones\n",
        "rows = len(a)\n",
        "cols = len(a[0])\n",
        "\n",
        "# Y ahora iteremos sobre cada uno de sus elementos.\n",
        "# Acá, sumaremos uno a cada elemento,\n",
        "# para hacer un cambio que podamos ver fácilmente.\n",
        "for fila in range(filas):\n",
        "    for col in range(cols):\n",
        "        # Este código se ejecutará filas*cols veces, una vez por cada\n",
        "        # elemento en la lista 2d\n",
        "        a[fila][col] += 1\n",
        "\n",
        "# Por último, mostremos como quedó\n",
        "print(\"Final:  a =\", a)"
      ],
      "execution_count": 24,
      "outputs": [
        {
          "output_type": "stream",
          "name": "stdout",
          "text": [
            "Inicial: a = [[2, 3, 5], [1, 4, 7]]\n",
            "Final:  a = [[3, 4, 6], [2, 5, 8]]\n"
          ]
        }
      ]
    },
    {
      "cell_type": "markdown",
      "metadata": {
        "id": "0fI5DIOvvpVe"
      },
      "source": [
        "## Accediendo listas 2d por fila o columna"
      ]
    },
    {
      "cell_type": "markdown",
      "metadata": {
        "id": "vHRJ0SuTvvGR"
      },
      "source": [
        "Accediendo por fila"
      ]
    },
    {
      "cell_type": "code",
      "metadata": {
        "colab": {
          "base_uri": "https://localhost:8080/"
        },
        "id": "405QPfitmd3V",
        "outputId": "4481eae8-a10d-4039-dd8e-c182da17d9cf"
      },
      "source": [
        "# alias (no es una nueva lista)\n",
        "a = [ [ 1, 2, 3 ] , [ 4, 5, 6 ] ]\n",
        "fila = 1\n",
        "filaList = a[fila]\n",
        "print(filaList)"
      ],
      "execution_count": 25,
      "outputs": [
        {
          "output_type": "stream",
          "name": "stdout",
          "text": [
            "[4, 5, 6]\n"
          ]
        }
      ]
    },
    {
      "cell_type": "markdown",
      "metadata": {
        "id": "OMAdZGD3ydHe"
      },
      "source": [
        "Accediendo por columna"
      ]
    },
    {
      "cell_type": "code",
      "metadata": {
        "colab": {
          "base_uri": "https://localhost:8080/"
        },
        "id": "T9I8dWgyyl7W",
        "outputId": "56e7da5a-590a-4f5c-eb14-a5d6bde01b74"
      },
      "source": [
        "# copia (no es un alias! se crea una nueva lista)\n",
        "a = [ [ 1, 2, 3 ] , [ 4, 5, 6 ] ]\n",
        "col = 1\n",
        "colList = [ ]\n",
        "for i in range(len(a)):\n",
        "    colList += [ a[i][col] ]\n",
        "print(colList)"
      ],
      "execution_count": 26,
      "outputs": [
        {
          "output_type": "stream",
          "name": "stdout",
          "text": [
            "[2, 5]\n"
          ]
        }
      ]
    },
    {
      "cell_type": "markdown",
      "metadata": {
        "id": "SJ08MpZUv3G7"
      },
      "source": [
        "Accediendo una columna por lista por comprensión"
      ]
    },
    {
      "cell_type": "code",
      "metadata": {
        "colab": {
          "base_uri": "https://localhost:8080/"
        },
        "id": "UrNAYvMDyuyk",
        "outputId": "1fa0dd7d-b161-4c89-ea8c-dda13d2cb9fd"
      },
      "source": [
        "# Hacemos una copia, usando lista por comprensión!\n",
        "a = [ [ 1, 2, 3 ] , [ 4, 5, 6 ] ]\n",
        "col = 1\n",
        "colList = [ a[i][col] for i in range(len(a)) ]\n",
        "print(colList)"
      ],
      "execution_count": 27,
      "outputs": [
        {
          "output_type": "stream",
          "name": "stdout",
          "text": [
            "[2, 5]\n"
          ]
        }
      ]
    },
    {
      "cell_type": "markdown",
      "metadata": {
        "id": "Sz1GIrqo02JS"
      },
      "source": [
        "## Listas 3d"
      ]
    },
    {
      "cell_type": "code",
      "metadata": {
        "colab": {
          "base_uri": "https://localhost:8080/"
        },
        "id": "WW0n2Sds1pOq",
        "outputId": "5486e5e8-2b9e-43b9-f0e4-e63cce93026c"
      },
      "source": [
        "# Las listas 2d lists en realidad no existen en Python.\n",
        "# Son sólo listas que tienen listas como elementos.\n",
        "# Y esto puede hacerse también para crear \"listas 3d\", o \"4d\" o listas de dimensiones más altas.\n",
        "# Esto también puede hacerse en forma no rectangular!\n",
        "\n",
        "a = [ [ [ 1, 2 ],\n",
        "        [ 3, 4 ] ],\n",
        "      [ [ 5, 6, 7 ],\n",
        "        [ 8, 9 ] ],\n",
        "      [ [ 10 ] ] ]\n",
        "\n",
        "for i in range(len(a)):\n",
        "    for j in range(len(a[i])):\n",
        "        for k in range(len(a[i][j])):\n",
        "            print(f'a[{i}][{j}][{k}] = {a[i][j][k]}')"
      ],
      "execution_count": 17,
      "outputs": [
        {
          "output_type": "stream",
          "name": "stdout",
          "text": [
            "a[0][0][0] = 1\n",
            "a[0][0][1] = 2\n",
            "a[0][1][0] = 3\n",
            "a[0][1][1] = 4\n",
            "a[1][0][0] = 5\n",
            "a[1][0][1] = 6\n",
            "a[1][0][2] = 7\n",
            "a[1][1][0] = 8\n",
            "a[1][1][1] = 9\n",
            "a[2][0][0] = 10\n"
          ]
        }
      ]
    },
    {
      "cell_type": "code",
      "metadata": {
        "id": "Sr8kiDui2NJl"
      },
      "source": [
        ""
      ],
      "execution_count": null,
      "outputs": []
    }
  ]
}